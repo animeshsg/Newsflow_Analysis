{
 "cells": [
  {
   "cell_type": "code",
   "execution_count": 35,
   "metadata": {},
   "outputs": [],
   "source": [
    "import os\n",
    "from dotenv import load_dotenv\n",
    "import os, mediacloud.api\n",
    "import newspaper\n",
    "import json\n",
    "import pandas as pd\n",
    "\n",
    "\n"
   ]
  },
  {
   "cell_type": "code",
   "execution_count": null,
   "metadata": {},
   "outputs": [],
   "source": [
    "load_dotenv()\n",
    "API_KEY = os.getenv('API_KEY')"
   ]
  },
  {
   "cell_type": "code",
   "execution_count": 37,
   "metadata": {},
   "outputs": [
    {
     "data": {
      "text/plain": [
       "Index(['ap_syndicated', 'collect_date', 'feeds', 'guid', 'language',\n",
       "       'media_id', 'media_name', 'media_url', 'metadata',\n",
       "       'processed_stories_id', 'publish_date', 'stories_id', 'story_tags',\n",
       "       'title', 'url', 'word_count'],\n",
       "      dtype='object')"
      ]
     },
     "execution_count": 37,
     "metadata": {},
     "output_type": "execute_result"
    }
   ],
   "source": [
    "newsdata=pd.read_csv(\"test_data.csv\")\n",
    "newsdata.columns"
   ]
  },
  {
   "cell_type": "code",
   "execution_count": 40,
   "metadata": {},
   "outputs": [],
   "source": [
    "test_url=newsdata[\"url\"][0]\n",
    "test_lang=newsdata[\"language\"][0]"
   ]
  },
  {
   "cell_type": "code",
   "execution_count": 41,
   "metadata": {},
   "outputs": [],
   "source": [
    "article=newspaper.Article(test_url,test_lang)\n",
    "article.download()\n",
    "article.parse()"
   ]
  },
  {
   "cell_type": "code",
   "execution_count": 42,
   "metadata": {},
   "outputs": [],
   "source": [
    "article ={\n",
    "    \"title\": str(article.title),\n",
    "    \"text\": str(article.text),\n",
    "    \"authors\": article.authors,\n",
    "    \"published_date\": str(article.publish_date),\n",
    "    \"top_image\": str(article.top_image),\n",
    "    \"videos\": article.movies,\n",
    "    \"keywords\": article.keywords,\n",
    "    \"summary\": str(article.summary)\n",
    "}\n"
   ]
  },
  {
   "cell_type": "code",
   "execution_count": 43,
   "metadata": {},
   "outputs": [
    {
     "name": "stdout",
     "output_type": "stream",
     "text": [
      "{'title': \"GREG GUTFELD: Mainstream media's midterm coverage is a form of 'meddling' in our elections\", 'text': 'NEW You can now listen to Fox News articles!\\n\\nYes, yes, yes, yes, yes, yes, happy Thursday, my fabulous fantastic, furry friends. So let\\'s talk about my favorite subject, other than Gus. But how is Gus, my new puppy? Well, I\\'m so glad you asked.\\n\\nVIDEO\\n\\nMaybe learn how to use your phone. Anyway, tonight\\'s topic is the media and how they love to put the thumb on the scale when it comes to the midterm elections or any other election for that matter.\\n\\nMIDTERM STUDY FINDS MAINSTREAM MEDIA GAVE REPUBLICANS \"87%\" MORE NEGATIVE COVERAGE THAN DEMOCRATS\\n\\nA new study by the Media Research Center, or MRC, finds that nearly 90% of recent coverage of Republicans on the ABC, CBS and NBC evening newscasts turned out to be negative. I know that\\'s about as surprising as Jesse Waters chugging Rogaine, gets to the bloodstream faster. Now, these networks usually give Republicans more bad press than poison lawn dart for preemies. But now they\\'ve jacked it up, which is especially weird, given it\\'s the Republicans who are out of power. They\\'re the underdog, aren\\'t they? And generally, it\\'s the incumbents who have a track record that should be picked apart. But unless it\\'s Joe\\'s nose, no one\\'s doing any picking or eating. Rather than focus on the Dems failures on the economy, crime and the border, they actually hammered the challenger\\'s criticism of that stuff instead. Suddenly, it\\'s hysteria to point out such flaws to the powers that be. In the old days, that\\'s what journalists used to do. But now it\\'s just Republicans, and then they pay for it.\\n\\nIn the period between September 1st and October 26th, also known as prime ferret mating season, get out your binoculars, only six positive statements were made about Georgia Senate candidate Herschel Walker versus 50 negatives. Meanwhile, the left loving media failed to lay a glove on Herschel\\'s Democratic rival, Raphael Warnock, who may have more skeletons in his closet than Jeffrey Dahmer after Fashion Week. Meanwhile, there were only two positive statements for Pennsylvania Senate candidate Dr. Oz compared to nine negative, and how much you want to bet those two positive statements were his name and his occupation.\\n\\nAnd then there\\'s poor Kari Lake running for Arizona governor. Not a single nice thing to say about her. Hell, they could at least compliment her bone structure. Have you seen how square her jaw line is? No wonder all my Lego figurines keep hitting on her. Her face is like a gorgeous, perfectly solved Rubik\\'s cube. She\\'s the world\\'s sexiest graham cracker. Maybe it\\'s just me.\\n\\nLIBERAL MEDIA DOWNPLAY BIDEN\\'S MANY FAILURES TO EXAGGERATE DEMOCRAT ELECTION CHANCES\\n\\nMeanwhile, look at what they do for Joe Biden, the guy who put corn pop in his place, and Preparation H on his BLT, it\\'s called a BLTH. In 2018, he accounted for 48% of all campaign airtime. To be fair, though, most of it consisted of Joe downing a pint of Chunky Monkey. But this year, the media couldn\\'t give a rat\\'s ass about the dawdling dope. They turned off the cameras because they realized less coverage is better than facing the deceitful reality they created. So between September 1st and October 26th, there\\'s just 34-minutes of Biden coverage and half of that was him just trying to get his coat on.\\n\\nVIDEO\\n\\nIt\\'s not his fault. Clearly that day he didn\\'t get his recommended daily allowance of sniffed ponytail. It comes in a jar. So is it any surprise that Republicans aren\\'t responding to polls? It\\'s something called non-response bias, which sounds like me when I let Kat\\'s calls go to voicemail. But it\\'s when people don\\'t respond to surveys about their choices because of all the negative coverage. And it makes sense. Why would you respond to a poll if everyone says you\\'re evil? I mean, unless you\\'re like, Kilmeade sitting alone at home in the dark by himself, drinking gin out of a bottle, watching Three\\'s Company reruns and dying to have some, if any, human interaction.\\n\\nAnd by the way, how do you know if the caller is really a legitimate pollster and not a twisted neighbor looking to take a dump on your front lawn? I\\'ve seen it happen because I was the neighbor. The New York Times calls non-response bias a worrisome pattern because now they aren\\'t able to discern what key states and districts where Dems could face an upset on Election Day. But hey, you reap what you sow, bitches. Did I just say that out loud?\\n\\nSo now they can\\'t tell whether the races will be close or if they\\'ll get blown out like Dana\\'s hair at her high school prom. Her hair was so high her curling iron got a nosebleed. But why should conservatives respond to polls when people say stuff like this about them?\\n\\nHERSCHEL WALKER DENIES BOMBSHELL REPORT HE PAID FOR GIRLFRIEND\\'S ABORTION\\n\\nMSNBC: A historian will say, \"what was at stake tonight and this week, was the fact whether we will be a democracy in the future, whether our children will be arrested and conceivably killed. We\\'re on the edge of a brutal authoritarian system, and it could be a week away.\\n\\nYou get that, if Republicans win children are going to get killed. That guy is a historian, how the hell did that happen? Did he send away for a \"I\\'m a Historian\" card from the back of a Wheaties box? If he could be a historian, then I could be a pharmacist, and you don\\'t want that. But, God, I do. Then there\\'s this creep.\\n\\nSUNNY HOSTIN: I read a poll just yesterday that white Republican suburban women are now going to vote Republican. It\\'s almost like roaches voting for Raid.\\n\\nI like how, I got to say I love how she looks up as though it\\'s coming to her like an intellectual thought. She\\'d been waiting all day to say that, comparing white women to roaches. On \"The View\" they call that Thursday. Here\\'s a comparison for you, Sunny. You\\'re dumber than ---- ----. I\\'m sorry. Sorry, that\\'s that\\'s not a comparison at all. I really do need to get some sleep.\\n\\nCLICK HERE TO GET THE FOX NEWS APP\\n\\nBut in this climate where the Dems and media collude to demonize millions of voters, it\\'s no surprise that those on the right keep their mouths shut. And then come Tuesday, just like a certain Tuesday, way back when, in 2016, the media and the Dems won\\'t know what hit them.', 'authors': ['Greg Gutfeld'], 'published_date': 'None', 'top_image': 'https://cf-images.us-east-1.prod.boltdns.net/v1/static/694940094001/45aa71b0-3a5a-4a48-bb41-ecfc6b59a148/732380e8-8737-4b58-8058-0f665652cbd3/1280x720/match/image.jpg', 'videos': [], 'keywords': [], 'summary': ''}\n"
     ]
    }
   ],
   "source": [
    "print(article)"
   ]
  },
  {
   "cell_type": "code",
   "execution_count": null,
   "metadata": {},
   "outputs": [],
   "source": []
  }
 ],
 "metadata": {
  "kernelspec": {
   "display_name": "Python 3",
   "language": "python",
   "name": "python3"
  },
  "language_info": {
   "codemirror_mode": {
    "name": "ipython",
    "version": 3
   },
   "file_extension": ".py",
   "mimetype": "text/x-python",
   "name": "python",
   "nbconvert_exporter": "python",
   "pygments_lexer": "ipython3",
   "version": "3.10.8"
  },
  "orig_nbformat": 4,
  "vscode": {
   "interpreter": {
    "hash": "b0fa6594d8f4cbf19f97940f81e996739fb7646882a419484c72d19e05852a7e"
   }
  }
 },
 "nbformat": 4,
 "nbformat_minor": 2
}
